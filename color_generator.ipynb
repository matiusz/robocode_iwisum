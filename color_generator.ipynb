{
 "cells": [
  {
   "cell_type": "code",
   "execution_count": 33,
   "outputs": [],
   "source": [
    "import random\n",
    "import pandas as pd\n",
    "from sklearn.model_selection import train_test_split\n",
    "from sklearn.ensemble import RandomForestClassifier\n",
    "import joblib\n",
    "import numpy as np"
   ],
   "metadata": {
    "collapsed": false,
    "pycharm": {
     "name": "#%%\n"
    }
   }
  },
  {
   "cell_type": "code",
   "execution_count": 21,
   "metadata": {
    "collapsed": true
   },
   "outputs": [],
   "source": [
    "data=[]\n",
    "\n",
    "label='t800'\n",
    "color=[150, 150, 150]\n",
    "for i in range(200):\n",
    "    c1=color[0]+random.randrange(-30, 30)\n",
    "    c2=color[1]+random.randrange(-30, 30)\n",
    "    c3=color[2]+random.randrange(-30, 30)\n",
    "    data.append((c1,c2,c3,label))\n",
    "\n",
    "\n",
    "label='charlier'\n",
    "color=[180, 180, 180]\n",
    "for i in range(200):\n",
    "    c1=color[0]+random.randrange(-30, 30)\n",
    "    c2=color[1]+random.randrange(-30, 30)\n",
    "    c3=color[2]+random.randrange(-30, 30)\n",
    "    data.append((c1,c2,c3,label))\n",
    "\n",
    "label='wall_runner'\n",
    "color=[120, 120, 120]\n",
    "for i in range(200):\n",
    "    c1=color[0]+random.randrange(-30, 30)\n",
    "    c2=color[1]+random.randrange(-30, 30)\n",
    "    c3=color[2]+random.randrange(-30, 30)\n",
    "    data.append((c1,c2,c3,label))\n",
    "\n",
    "label='coin'\n",
    "color=[210, 210, 210]\n",
    "for i in range(200):\n",
    "    c1=color[0]+random.randrange(-30, 30)\n",
    "    c2=color[1]+random.randrange(-30, 30)\n",
    "    c3=color[2]+random.randrange(-30, 30)\n",
    "    data.append((c1,c2,c3,label))\n",
    "\n",
    "\n",
    "\n",
    "distance=random.randrange(20, 200)\n",
    "dist_calc=int(distance/4)"
   ]
  },
  {
   "cell_type": "code",
   "execution_count": 22,
   "outputs": [
    {
     "data": {
      "text/plain": "       0    1    2     3\n0    169  170  124  t800\n1    164  136  170  t800\n2    173  173  132  t800\n3    140  143  168  t800\n4    153  160  129  t800\n..   ...  ...  ...   ...\n795  228  200  181  coin\n796  192  221  182  coin\n797  221  226  226  coin\n798  202  238  213  coin\n799  196  196  215  coin\n\n[800 rows x 4 columns]",
      "text/html": "<div>\n<style scoped>\n    .dataframe tbody tr th:only-of-type {\n        vertical-align: middle;\n    }\n\n    .dataframe tbody tr th {\n        vertical-align: top;\n    }\n\n    .dataframe thead th {\n        text-align: right;\n    }\n</style>\n<table border=\"1\" class=\"dataframe\">\n  <thead>\n    <tr style=\"text-align: right;\">\n      <th></th>\n      <th>0</th>\n      <th>1</th>\n      <th>2</th>\n      <th>3</th>\n    </tr>\n  </thead>\n  <tbody>\n    <tr>\n      <th>0</th>\n      <td>169</td>\n      <td>170</td>\n      <td>124</td>\n      <td>t800</td>\n    </tr>\n    <tr>\n      <th>1</th>\n      <td>164</td>\n      <td>136</td>\n      <td>170</td>\n      <td>t800</td>\n    </tr>\n    <tr>\n      <th>2</th>\n      <td>173</td>\n      <td>173</td>\n      <td>132</td>\n      <td>t800</td>\n    </tr>\n    <tr>\n      <th>3</th>\n      <td>140</td>\n      <td>143</td>\n      <td>168</td>\n      <td>t800</td>\n    </tr>\n    <tr>\n      <th>4</th>\n      <td>153</td>\n      <td>160</td>\n      <td>129</td>\n      <td>t800</td>\n    </tr>\n    <tr>\n      <th>...</th>\n      <td>...</td>\n      <td>...</td>\n      <td>...</td>\n      <td>...</td>\n    </tr>\n    <tr>\n      <th>795</th>\n      <td>228</td>\n      <td>200</td>\n      <td>181</td>\n      <td>coin</td>\n    </tr>\n    <tr>\n      <th>796</th>\n      <td>192</td>\n      <td>221</td>\n      <td>182</td>\n      <td>coin</td>\n    </tr>\n    <tr>\n      <th>797</th>\n      <td>221</td>\n      <td>226</td>\n      <td>226</td>\n      <td>coin</td>\n    </tr>\n    <tr>\n      <th>798</th>\n      <td>202</td>\n      <td>238</td>\n      <td>213</td>\n      <td>coin</td>\n    </tr>\n    <tr>\n      <th>799</th>\n      <td>196</td>\n      <td>196</td>\n      <td>215</td>\n      <td>coin</td>\n    </tr>\n  </tbody>\n</table>\n<p>800 rows × 4 columns</p>\n</div>"
     },
     "execution_count": 22,
     "metadata": {},
     "output_type": "execute_result"
    }
   ],
   "source": [
    "df=pd.DataFrame(data)\n",
    "df"
   ],
   "metadata": {
    "collapsed": false,
    "pycharm": {
     "name": "#%%\n"
    }
   }
  },
  {
   "cell_type": "code",
   "execution_count": 23,
   "outputs": [],
   "source": [
    "X=df.iloc[:,:-1]\n",
    "y=df.iloc[:,-1]\n",
    "X_train, X_test, y_train, y_test = train_test_split(X, y, random_state=42)"
   ],
   "metadata": {
    "collapsed": false,
    "pycharm": {
     "name": "#%%\n"
    }
   }
  },
  {
   "cell_type": "code",
   "execution_count": 24,
   "outputs": [
    {
     "data": {
      "text/plain": "RandomForestClassifier(max_depth=2, random_state=0)"
     },
     "execution_count": 24,
     "metadata": {},
     "output_type": "execute_result"
    }
   ],
   "source": [
    "clf = RandomForestClassifier(max_depth=2, random_state=0)\n",
    "clf.fit(X_train, y_train)"
   ],
   "metadata": {
    "collapsed": false,
    "pycharm": {
     "name": "#%%\n"
    }
   }
  },
  {
   "cell_type": "code",
   "execution_count": 31,
   "outputs": [
    {
     "name": "stdout",
     "output_type": "stream",
     "text": [
      "['coin']\n",
      "['charlier']\n",
      "['coin']\n",
      "['charlier']\n",
      "['charlier']\n",
      "['t800']\n",
      "['charlier']\n",
      "['charlier']\n",
      "['charlier']\n",
      "['charlier']\n",
      "['charlier']\n",
      "['charlier']\n",
      "['t800']\n",
      "['charlier']\n",
      "['charlier']\n",
      "['charlier']\n",
      "['charlier']\n",
      "['charlier']\n",
      "['charlier']\n",
      "['charlier']\n",
      "['charlier']\n",
      "['charlier']\n",
      "['charlier']\n",
      "['charlier']\n",
      "['t800']\n",
      "['charlier']\n",
      "['charlier']\n",
      "['charlier']\n",
      "['t800']\n",
      "['charlier']\n"
     ]
    }
   ],
   "source": [
    "clf.score(X_test,y_test)\n",
    "color=[180, 180, 180]\n",
    "for i in range(30):\n",
    "    distance=random.randrange(20, 200)\n",
    "    dist_calc=int(distance/4)\n",
    "    c1=color[0]+random.randrange(-dist_calc, dist_calc)\n",
    "    c2=color[1]+random.randrange(-dist_calc, dist_calc)\n",
    "    c3=color[2]+random.randrange(-dist_calc, dist_calc)\n",
    "    print(clf.predict(np.asarray((c1,c2,c3)).reshape(1, -1)))"
   ],
   "metadata": {
    "collapsed": false,
    "pycharm": {
     "name": "#%%\n"
    }
   }
  },
  {
   "cell_type": "code",
   "execution_count": 34,
   "outputs": [
    {
     "data": {
      "text/plain": "['model.sav']"
     },
     "execution_count": 34,
     "metadata": {},
     "output_type": "execute_result"
    }
   ],
   "source": [
    "filename = 'model.sav'\n",
    "joblib.dump(clf, filename)"
   ],
   "metadata": {
    "collapsed": false,
    "pycharm": {
     "name": "#%%\n"
    }
   }
  }
 ],
 "metadata": {
  "kernelspec": {
   "display_name": "Python 3",
   "language": "python",
   "name": "python3"
  },
  "language_info": {
   "codemirror_mode": {
    "name": "ipython",
    "version": 2
   },
   "file_extension": ".py",
   "mimetype": "text/x-python",
   "name": "python",
   "nbconvert_exporter": "python",
   "pygments_lexer": "ipython2",
   "version": "2.7.6"
  }
 },
 "nbformat": 4,
 "nbformat_minor": 0
}